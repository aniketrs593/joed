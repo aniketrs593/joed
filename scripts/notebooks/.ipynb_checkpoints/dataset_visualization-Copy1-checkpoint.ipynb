{
 "cells": [
  {
   "cell_type": "code",
   "execution_count": 2,
   "metadata": {},
   "outputs": [
    {
     "data": {
      "text/html": [
       "<style>.container { width:100% !important; }</style>"
      ],
      "text/plain": [
       "<IPython.core.display.HTML object>"
      ]
     },
     "metadata": {},
     "output_type": "display_data"
    }
   ],
   "source": [
    "from IPython.core.display import display, HTML\n",
    "display(HTML(\"<style>.container { width:100% !important; }</style>\"))"
   ]
  },
  {
   "cell_type": "code",
   "execution_count": 54,
   "metadata": {},
   "outputs": [],
   "source": [
    "import sys\n",
    "sys.path.append('..')"
   ]
  },
  {
   "cell_type": "code",
   "execution_count": 55,
   "metadata": {},
   "outputs": [],
   "source": [
    "from utils.data_storage import DataStorageReader\n",
    "import cv2\n",
    "import numpy as np\n",
    "import matplotlib.pyplot as plt\n",
    "import numpy.linalg as LA"
   ]
  },
  {
   "cell_type": "code",
   "execution_count": 56,
   "metadata": {},
   "outputs": [],
   "source": [
    "def rt_matrix(x=0, y=0, z=0, roll=0, pitch=0, yaw=0):\n",
    "    c_y = np.cos(np.radians(yaw))\n",
    "    s_y = np.sin(np.radians(yaw))\n",
    "    c_r = np.cos(np.radians(roll))\n",
    "    s_r = np.sin(np.radians(roll))\n",
    "    c_p = np.cos(np.radians(pitch))\n",
    "    s_p = np.sin(np.radians(pitch))\n",
    "    matrix = np.matrix(np.identity(4))\n",
    "    matrix[0, 3] = x\n",
    "    matrix[1, 3] = y\n",
    "    matrix[2, 3] = z\n",
    "    matrix[0, 0] = c_p * c_y\n",
    "    matrix[0, 1] = c_y * s_p * s_r - s_y * c_r\n",
    "    matrix[0, 2] = -c_y * s_p * c_r - s_y * s_r\n",
    "    matrix[1, 0] = s_y * c_p\n",
    "    matrix[1, 1] = s_y * s_p * s_r + c_y * c_r\n",
    "    matrix[1, 2] = -s_y * s_p * c_r + c_y * s_r\n",
    "    matrix[2, 0] = s_p\n",
    "    matrix[2, 1] = -c_p * s_r\n",
    "    matrix[2, 2] = c_p * c_r\n",
    "    return matrix\n",
    "\n",
    "def draw_bounding_boxes(image, bounding_boxes):\n",
    "        \"\"\"\n",
    "        Draws bounding boxes on cv2 image.\n",
    "        \"\"\"\n",
    "\n",
    "        for bbox in bounding_boxes:\n",
    "\n",
    "            points = [(int(bbox[i, 0]), int(bbox[i, 1])) for i in range(8)]\n",
    "            # draw lines\n",
    "            # base\n",
    "            image = cv2.line(image, points[0], points[1], (0, 255, 0), 1)\n",
    "            image = cv2.line(image, points[1], points[2], (0, 255, 0), 1)\n",
    "            image = cv2.line(image, points[2], points[3], (0, 255, 0), 1)\n",
    "            image = cv2.line(image, points[3], points[0], (0, 255, 0), 1)\n",
    "            # top\n",
    "            image = cv2.line(image, points[4], points[5], (0, 255, 0), 1)\n",
    "            image = cv2.line(image, points[5], points[6], (0, 255, 0), 1)\n",
    "            image = cv2.line(image, points[6], points[7], (0, 255, 0), 1)\n",
    "            image = cv2.line(image, points[7], points[4], (0, 255, 0), 1)\n",
    "            # base-top\n",
    "            image = cv2.line(image, points[0], points[4], (0, 255, 0), 1)\n",
    "            image = cv2.line(image, points[1], points[5], (0, 255, 0), 1)\n",
    "            image = cv2.line(image, points[2], points[6], (0, 255, 0), 1)\n",
    "            image = cv2.line(image, points[3], points[7], (0, 255, 0), 1)\n",
    "        \n",
    "        return image\n",
    "\n",
    "    \n",
    "def draw_points(image, points, colors):\n",
    "        \n",
    "        for i in range(points.shape[0]):\n",
    "            if points[i, 2] > 0:\n",
    "                cv2.circle(image, (int(1024-points[i, 0]), int(points[i, 1])), 3, (colors[i, 0], colors[i, 1], colors[i, 2]))\n",
    "            \n",
    "        return image"
   ]
  },
  {
   "cell_type": "code",
   "execution_count": 57,
   "metadata": {},
   "outputs": [
    {
     "name": "stdout",
     "output_type": "stream",
     "text": [
      ">> Total Frames:  23\n",
      "('bounding_box', 'gnss_gnss', 'lidar_lidar', 'rgb_camera1', 'rgb_camera2', 'rgb_camera3', 'rgb_camera4', 'rgb_camera5', 'rgb_camera6', 'rgb_camera7', 'rgb_camera8', 'rgb_camera9', 'sensor_transform', 'vehicle_position')\n"
     ]
    }
   ],
   "source": [
    "input_file_path = \"../../dataset/data_usecase2.h5\"\n",
    "reader = DataStorageReader(input_file_path)\n",
    "indexes = reader.get_timestamps_as_string()\n",
    "print('>> Total Frames: ', len(indexes))\n",
    "print(reader.sensor_labels)"
   ]
  },
  {
   "cell_type": "code",
   "execution_count": 58,
   "metadata": {},
   "outputs": [
    {
     "name": "stdout",
     "output_type": "stream",
     "text": [
      "camera transform [  0.15   0.55   1.65   0.   -15.    45.  ]\n",
      "lidar transform [0.  0.  2.4 0.  0.  0. ]\n"
     ]
    }
   ],
   "source": [
    "index = 0\n",
    "\n",
    "lidar = reader.lidars[0]\n",
    "\n",
    "camera_transform = reader.get_sensor_transform('rgb_camera3')\n",
    "lidar_transform = reader.get_sensor_transform(lidar)\n",
    "\n",
    "print('camera transform', camera_transform)\n",
    "print('lidar transform', lidar_transform)\n",
    "\n",
    "bb_box = reader.get_bounding_boxes()[1]\n",
    "bb_box_location = reader.get_bounding_boxes_locations()[1]\n",
    "vehicle_pos = reader.get_vehicle_position(indexes[index])[0]\n",
    "\n",
    "image = reader.get_image('rgb_camera3', indexes[index])\n",
    "points = reader.get_point_cloud(lidar, indexes[index])"
   ]
  },
  {
   "cell_type": "code",
   "execution_count": 59,
   "metadata": {
    "scrolled": false
   },
   "outputs": [
    {
     "name": "stdout",
     "output_type": "stream",
     "text": [
      "[0.  0.  2.4 0.  0.  0. ]\n"
     ]
    },
    {
     "ename": "IndexError",
     "evalue": "boolean index did not match indexed array along dimension 0; dimension is 34357 but corresponding boolean dimension is 18079",
     "output_type": "error",
     "traceback": [
      "\u001b[0;31m---------------------------------------------------------------------\u001b[0m",
      "\u001b[0;31mIndexError\u001b[0m                          Traceback (most recent call last)",
      "\u001b[0;32m<ipython-input-59-d7e3536a0c3f>\u001b[0m in \u001b[0;36m<module>\u001b[0;34m\u001b[0m\n\u001b[1;32m     58\u001b[0m \u001b[0mdist\u001b[0m \u001b[0;34m=\u001b[0m \u001b[0mLA\u001b[0m\u001b[0;34m.\u001b[0m\u001b[0mnorm\u001b[0m\u001b[0;34m(\u001b[0m\u001b[0mpts_camera\u001b[0m\u001b[0;34m.\u001b[0m\u001b[0mT\u001b[0m\u001b[0;34m,\u001b[0m \u001b[0maxis\u001b[0m\u001b[0;34m=\u001b[0m\u001b[0;36m1\u001b[0m\u001b[0;34m)\u001b[0m\u001b[0;34m\u001b[0m\u001b[0;34m\u001b[0m\u001b[0m\n\u001b[1;32m     59\u001b[0m \u001b[0;34m\u001b[0m\u001b[0m\n\u001b[0;32m---> 60\u001b[0;31m \u001b[0mcamera_pts\u001b[0m \u001b[0;34m=\u001b[0m \u001b[0mcamera_pts\u001b[0m\u001b[0;34m[\u001b[0m\u001b[0mcrop_dist\u001b[0m\u001b[0;34m,\u001b[0m \u001b[0;34m:\u001b[0m\u001b[0;34m]\u001b[0m\u001b[0;34m\u001b[0m\u001b[0;34m\u001b[0m\u001b[0m\n\u001b[0m\u001b[1;32m     61\u001b[0m \u001b[0;31m# dist = dist[crop_dist]\u001b[0m\u001b[0;34m\u001b[0m\u001b[0;34m\u001b[0m\u001b[0;34m\u001b[0m\u001b[0m\n\u001b[1;32m     62\u001b[0m \u001b[0;34m\u001b[0m\u001b[0m\n",
      "\u001b[0;32m/usr/lib/python3.7/site-packages/numpy/matrixlib/defmatrix.py\u001b[0m in \u001b[0;36m__getitem__\u001b[0;34m(self, index)\u001b[0m\n\u001b[1;32m    193\u001b[0m \u001b[0;34m\u001b[0m\u001b[0m\n\u001b[1;32m    194\u001b[0m         \u001b[0;32mtry\u001b[0m\u001b[0;34m:\u001b[0m\u001b[0;34m\u001b[0m\u001b[0;34m\u001b[0m\u001b[0m\n\u001b[0;32m--> 195\u001b[0;31m             \u001b[0mout\u001b[0m \u001b[0;34m=\u001b[0m \u001b[0mN\u001b[0m\u001b[0;34m.\u001b[0m\u001b[0mndarray\u001b[0m\u001b[0;34m.\u001b[0m\u001b[0m__getitem__\u001b[0m\u001b[0;34m(\u001b[0m\u001b[0mself\u001b[0m\u001b[0;34m,\u001b[0m \u001b[0mindex\u001b[0m\u001b[0;34m)\u001b[0m\u001b[0;34m\u001b[0m\u001b[0;34m\u001b[0m\u001b[0m\n\u001b[0m\u001b[1;32m    196\u001b[0m         \u001b[0;32mfinally\u001b[0m\u001b[0;34m:\u001b[0m\u001b[0;34m\u001b[0m\u001b[0;34m\u001b[0m\u001b[0m\n\u001b[1;32m    197\u001b[0m             \u001b[0mself\u001b[0m\u001b[0;34m.\u001b[0m\u001b[0m_getitem\u001b[0m \u001b[0;34m=\u001b[0m \u001b[0;32mFalse\u001b[0m\u001b[0;34m\u001b[0m\u001b[0;34m\u001b[0m\u001b[0m\n",
      "\u001b[0;31mIndexError\u001b[0m: boolean index did not match indexed array along dimension 0; dimension is 34357 but corresponding boolean dimension is 18079"
     ]
    }
   ],
   "source": [
    "# LIDAR TO CAR:  LIDAR DATA IS ZERO FRAME\n",
    "\n",
    "T1 = rt_matrix(lidar_transform[0], lidar_transform[1], lidar_transform[2],\n",
    "               lidar_transform[3]-180, lidar_transform[4], lidar_transform[5]-0)\n",
    "\n",
    "print(lidar_transform)\n",
    "# LIDAR TO VEHICLE LOCATION\n",
    "\n",
    "T2 = rt_matrix(vehicle_pos[0], vehicle_pos[1], vehicle_pos[2],\n",
    "               vehicle_pos[3], vehicle_pos[4], vehicle_pos[5])\n",
    "\n",
    "# COMPOUDING\n",
    "T3 = np.dot(T2, T1)\n",
    "\n",
    "extended_pts = np.ones((points.shape[0], 4), dtype=np.float32)\n",
    "extended_pts[:, :3] = points.copy()\n",
    "\n",
    "# WORLD COORDINATE\n",
    "\n",
    "extended_pts = np.dot(T3, extended_pts.T)\n",
    "\n",
    "\n",
    "# CAMERA SENSOR TO VEHICLE\n",
    "\n",
    "T1 = rt_matrix(camera_transform[0], camera_transform[1], camera_transform[2],\n",
    "               camera_transform[3], camera_transform[4], camera_transform[5])\n",
    "\n",
    "# SENSOR TO WORLD\n",
    "T2 = rt_matrix(vehicle_pos[0], vehicle_pos[1], vehicle_pos[2],\n",
    "               vehicle_pos[3], vehicle_pos[4], vehicle_pos[5])\n",
    "\n",
    "# COMPOUDING \n",
    "T3 = np.dot(T2, T1)\n",
    "\n",
    "# GETTING THE INVERSE TRANSFORMATION\n",
    "T4 = np.linalg.inv(T3)\n",
    "\n",
    "\n",
    "pts_camera = np.dot(T4, extended_pts)[:3, :]\n",
    "\n",
    "calibration = np.identity(3)\n",
    "calibration[0, 2] = 1024.0 / 2.0\n",
    "calibration[1, 2] = 768.0 / 2.0\n",
    "calibration[0, 0] = calibration[1, 1] = 1024 / (2.0 * np.tan(70.0 * np.pi / 360.0))\n",
    "\n",
    "cords_y_minus_z_x = np.concatenate([pts_camera[1, :], -pts_camera[2, :], pts_camera[0, :]])\n",
    "pts = np.transpose(np.dot(calibration, cords_y_minus_z_x))\n",
    "camera_pts = np.concatenate([pts[:, 0] / pts[:, 2], pts[:, 1] / pts[:, 2], pts[:, 2]], axis=1)\n",
    "\n",
    "\n",
    "# create colormap\n",
    "color_map = cv2.applyColorMap(np.arange(0, 256, dtype=np.uint8).reshape((1, -1)), cv2.COLORMAP_RAINBOW).reshape((-1, 3))\n",
    "\n",
    "# distance between the car and camera must be grater than 2.5 meters\n",
    "# dist_mask = LA.norm(points, axis=1)\n",
    "# crop_dist = dist_mask > 3\n",
    "\n",
    "dist = LA.norm(pts_camera.T, axis=1)\n",
    "\n",
    "# camera_pts = camera_pts[crop_dist, :]\n",
    "# dist = dist[crop_dist]\n",
    "\n",
    "dist[dist > 50] = 50\n",
    "dist /= 50\n",
    "dist *= 255\n",
    "pcolors = color_map[dist.astype(np.uint8)]\n",
    "\n",
    "def draw_points3(image, points, data_colors):      \n",
    "        print('draw points', data_colors.shape)\n",
    "        for i in range(points.shape[0]):\n",
    "            if points[i, 2] > 0:\n",
    "                cor = (int(data_colors[i, 0]), int(data_colors[i, 1]), int(data_colors[i, 2]))\n",
    "                cv2.circle(image, (int(1024-points[i, 0]), int(points[i, 1])), 1, cor, 3)\n",
    "        return image\n",
    "\n",
    "print(camera_pts.shape)\n",
    "image_lidar = draw_points3(np.zeros_like(image.copy()), camera_pts, pcolors)\n",
    "image_lidar = draw_points3(image.copy(), camera_pts, pcolors)\n",
    "\n",
    "plt.rcParams['figure.figsize'] = [30, 20]\n",
    "plt.imshow(image_lidar[:,:,::-1])\n",
    "plt.show()"
   ]
  },
  {
   "cell_type": "code",
   "execution_count": 45,
   "metadata": {},
   "outputs": [],
   "source": [
    "reader = None"
   ]
  },
  {
   "cell_type": "code",
   "execution_count": null,
   "metadata": {},
   "outputs": [],
   "source": []
  },
  {
   "cell_type": "code",
   "execution_count": null,
   "metadata": {},
   "outputs": [],
   "source": []
  }
 ],
 "metadata": {
  "kernelspec": {
   "display_name": "Python 3",
   "language": "python",
   "name": "python3"
  },
  "language_info": {
   "codemirror_mode": {
    "name": "ipython",
    "version": 3
   },
   "file_extension": ".py",
   "mimetype": "text/x-python",
   "name": "python",
   "nbconvert_exporter": "python",
   "pygments_lexer": "ipython3",
   "version": "3.7.3"
  }
 },
 "nbformat": 4,
 "nbformat_minor": 2
}
